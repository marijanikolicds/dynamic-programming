{
 "cells": [
  {
   "cell_type": "code",
   "execution_count": 51,
   "metadata": {},
   "outputs": [],
   "source": [
    "# Time: O(n) - n = len(arr)\n",
    "# Space: O(n) - n = len(arr)\n",
    "def kadanes_max_sum(arr):\n",
    "    left, max_left, max_right = 0, 0, 0\n",
    "    sum_arr = [0] * len(arr)\n",
    "    sum_arr[0] = arr[0]\n",
    "    max_sum = arr[0]\n",
    "    \n",
    "    for right in range(1, len(arr)):\n",
    "        curr_sum = sum_arr[right-1] + arr[right]\n",
    "        if curr_sum > arr[right]:\n",
    "            sum_arr[right] = curr_sum\n",
    "            if sum_arr[right] > max_sum:\n",
    "                max_left = left\n",
    "                max_right = right\n",
    "                max_sum = sum_arr[right]\n",
    "        else:\n",
    "            sum_arr[right] = arr[right]\n",
    "            left = right\n",
    "            if sum_arr[right] > max_sum:\n",
    "                max_left = left\n",
    "                max_right = right\n",
    "                max_sum = sum_arr[right]\n",
    "                    \n",
    "    return (max_sum, max_left, max_right)"
   ]
  },
  {
   "cell_type": "code",
   "execution_count": 52,
   "metadata": {},
   "outputs": [],
   "source": [
    "# Time: O(cols x cols x rows)\n",
    "# Space: O(rows)\n",
    "def max_sum_rectangle(matrix):\n",
    "    rows_cnt = len(matrix) \n",
    "    if rows_cnt == 0:\n",
    "        return 0\n",
    "    cols_cnt = len(matrix[0])\n",
    "    \n",
    "    max_sum = 0\n",
    "    arr = [0] * rows_cnt\n",
    "    left, right, up, down = -1, -1, -1, -1\n",
    "    \n",
    "    for l in range(cols_cnt):\n",
    "        for r in range(l, cols_cnt):\n",
    "            if l == r:\n",
    "                arr = [0] * rows_cnt\n",
    "                for i in range(rows_cnt):\n",
    "                    arr[i] = matrix[i][l]\n",
    "            else:\n",
    "                for i in range(rows_cnt):\n",
    "                    arr[i] += matrix[i][r]\n",
    "            curr_sum, u, d = kadanes_max_sum(arr)\n",
    "            \n",
    "            if curr_sum > max_sum:\n",
    "                max_sum = curr_sum\n",
    "                left = l\n",
    "                right = r\n",
    "                up = u\n",
    "                down = d\n",
    "                \n",
    "    return (max_sum, left, right, up, down)"
   ]
  }
 ],
 "metadata": {
  "kernelspec": {
   "display_name": "Python 3",
   "language": "python",
   "name": "python3"
  },
  "language_info": {
   "codemirror_mode": {
    "name": "ipython",
    "version": 3
   },
   "file_extension": ".py",
   "mimetype": "text/x-python",
   "name": "python",
   "nbconvert_exporter": "python",
   "pygments_lexer": "ipython3",
   "version": "3.7.3"
  }
 },
 "nbformat": 4,
 "nbformat_minor": 2
}
