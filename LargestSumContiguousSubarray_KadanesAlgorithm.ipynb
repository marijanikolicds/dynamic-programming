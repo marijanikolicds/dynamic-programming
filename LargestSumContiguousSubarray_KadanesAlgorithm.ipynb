{
 "cells": [
  {
   "cell_type": "code",
   "execution_count": 1,
   "metadata": {},
   "outputs": [],
   "source": [
    "# Find the maximum sum of a contiguous subarray in an array"
   ]
  },
  {
   "cell_type": "code",
   "execution_count": 2,
   "metadata": {},
   "outputs": [],
   "source": [
    "# Time: O(n)\n",
    "# Space: O(n)\n",
    "def max_sum(nums):\n",
    "    if len(nums) == 0:\n",
    "        return float('-inf')\n",
    "    \n",
    "    dp = [0 for _ in range(len(nums))]\n",
    "    dp[0] = nums[0]\n",
    "    \n",
    "    max_s = float('-inf')\n",
    "    \n",
    "    for i in range(1, len(nums)):\n",
    "        dp[i] = max(dp[i-1] + nums[i], nums[i])\n",
    "        max_s = max(max_s, dp[i])\n",
    "        \n",
    "    return max_s"
   ]
  }
 ],
 "metadata": {
  "kernelspec": {
   "display_name": "Python 3",
   "language": "python",
   "name": "python3"
  },
  "language_info": {
   "codemirror_mode": {
    "name": "ipython",
    "version": 3
   },
   "file_extension": ".py",
   "mimetype": "text/x-python",
   "name": "python",
   "nbconvert_exporter": "python",
   "pygments_lexer": "ipython3",
   "version": "3.7.3"
  }
 },
 "nbformat": 4,
 "nbformat_minor": 2
}
