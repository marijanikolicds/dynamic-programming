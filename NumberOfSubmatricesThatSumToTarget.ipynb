{
 "cells": [
  {
   "cell_type": "code",
   "execution_count": 5,
   "metadata": {},
   "outputs": [],
   "source": [
    "# Time: O(n)\n",
    "# Space: O(n)\n",
    "def subarray_tatget_sum(arr, target):\n",
    "    n = len(arr)\n",
    "    if n == 0:\n",
    "        return 0\n",
    "    \n",
    "    cumulative_sum = [0] * n\n",
    "    cumulative_sum[0] = arr[0]\n",
    "    \n",
    "    for i in range(1, n):\n",
    "        cumulative_sum[i] = cumulative_sum[i - 1] + arr[i]\n",
    "        \n",
    "    cnt = 0\n",
    "    sum_to_freq = {0: 1}\n",
    "    for i in range(n):\n",
    "        if cumulative_sum[i] - target in sum_to_freq:\n",
    "            cnt += sum_to_freq[cumulative_sum[i] - target]\n",
    "            \n",
    "        if cumulative_sum[i] in sum_to_freq:\n",
    "            sum_to_freq[cumulative_sum[i]] += 1\n",
    "        else:\n",
    "            sum_to_freq[cumulative_sum[i]] = 1\n",
    "    return cnt"
   ]
  },
  {
   "cell_type": "code",
   "execution_count": 6,
   "metadata": {},
   "outputs": [],
   "source": [
    "# Time: O(rows x rows x cols)\n",
    "# Space: O(cols)\n",
    "def submatrices_tatget_sum(matrix, target):\n",
    "    rows = len(matrix)\n",
    "    if rows == 0:\n",
    "        return 0\n",
    "    cols = len(matrix[0])\n",
    "    \n",
    "    cnt = 0\n",
    "    temp_arr = []\n",
    "    for i in range(rows):\n",
    "        for j in range(i, rows):\n",
    "            if i == j:\n",
    "                temp_arr = matrix[i][:]\n",
    "            else:\n",
    "                for k in range(cols):\n",
    "                    temp_arr[k] += matrix[j][k]\n",
    "                    \n",
    "            cnt += subarray_tatget_sum(temp_arr, target)\n",
    "            \n",
    "    return cnt"
   ]
  }
 ],
 "metadata": {
  "kernelspec": {
   "display_name": "Python 3",
   "language": "python",
   "name": "python3"
  },
  "language_info": {
   "codemirror_mode": {
    "name": "ipython",
    "version": 3
   },
   "file_extension": ".py",
   "mimetype": "text/x-python",
   "name": "python",
   "nbconvert_exporter": "python",
   "pygments_lexer": "ipython3",
   "version": "3.7.3"
  }
 },
 "nbformat": 4,
 "nbformat_minor": 2
}
