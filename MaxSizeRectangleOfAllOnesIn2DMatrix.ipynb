{
 "cells": [
  {
   "cell_type": "code",
   "execution_count": 26,
   "metadata": {},
   "outputs": [],
   "source": [
    "# Time: O(n)\n",
    "# Space: O(n)\n",
    "def max_area_rectangle(heights):\n",
    "    stack = []\n",
    "    max_area = 0\n",
    "    \n",
    "    for i, h in enumerate(heights + [0]):\n",
    "        while stack and heights[stack[-1]] >= h:\n",
    "            top_i = stack.pop()\n",
    "            top_h = heights[top_i]\n",
    "            top_w = i if not stack else i - stack[-1] - 1\n",
    "            max_area = max(max_area, top_h * top_w)\n",
    "        stack.append(i)\n",
    "    return max_area\n",
    "    "
   ]
  },
  {
   "cell_type": "code",
   "execution_count": 27,
   "metadata": {},
   "outputs": [],
   "source": [
    "# Time: O(rows x cols)\n",
    "# Space: O(cols)\n",
    "def max_rec(matrix):\n",
    "    max_area = 0\n",
    "    \n",
    "    row_cnt = len(matrix)\n",
    "    if row_cnt == 0:\n",
    "        return 0\n",
    "    col_cnt = len(matrix[0])\n",
    "    \n",
    "    arr = [0] * col_cnt\n",
    "    for r in range(row_cnt):\n",
    "        for c in range(col_cnt):\n",
    "            if matrix[r][c] == 0:\n",
    "                arr[c] = 0\n",
    "            else:\n",
    "                arr[c] += matrix[r][c]\n",
    "        area = max_area_rectangle(arr)  \n",
    "        max_area = max(max_area, area)\n",
    "    return max_area"
   ]
  }
 ],
 "metadata": {
  "kernelspec": {
   "display_name": "Python 3",
   "language": "python",
   "name": "python3"
  },
  "language_info": {
   "codemirror_mode": {
    "name": "ipython",
    "version": 3
   },
   "file_extension": ".py",
   "mimetype": "text/x-python",
   "name": "python",
   "nbconvert_exporter": "python",
   "pygments_lexer": "ipython3",
   "version": "3.7.3"
  }
 },
 "nbformat": 4,
 "nbformat_minor": 2
}
